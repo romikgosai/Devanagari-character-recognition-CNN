{
 "cells": [
  {
   "cell_type": "code",
   "execution_count": 1,
   "id": "8806946b",
   "metadata": {},
   "outputs": [],
   "source": [
    "from PIL import Image\n",
    "import os\n",
    "import cv2"
   ]
  },
  {
   "cell_type": "code",
   "execution_count": 17,
   "id": "f73638fc",
   "metadata": {},
   "outputs": [],
   "source": [
    "for i in range(1,47,1):\n",
    "    j=1\n",
    "    path = \"./1_Training/\"+str(i)+\"/\"\n",
    "    files = os.listdir(path)\n",
    "    \n",
    "    for index, file in enumerate(files):\n",
    "        os.rename(os.path.join(path,file), os.path.join(path, ''.join([str(i)+' ('+str(j)+').png'])))\n",
    "        j=j+1"
   ]
  },
  {
   "cell_type": "code",
   "execution_count": 18,
   "id": "af3dda2f",
   "metadata": {},
   "outputs": [],
   "source": [
    "for i in range(1,47,1):\n",
    "    j=1\n",
    "    path = \"./2_Validation/\"+str(i)+\"/\"\n",
    "    files = os.listdir(path)\n",
    "    \n",
    "    for index, file in enumerate(files):\n",
    "        os.rename(os.path.join(path,file), os.path.join(path, ''.join([str(i)+' ('+str(j)+').png'])))\n",
    "        j=j+1"
   ]
  },
  {
   "cell_type": "code",
   "execution_count": null,
   "id": "7d144467",
   "metadata": {},
   "outputs": [],
   "source": [
    "for i in range(1,47,1):\n",
    "    j=1\n",
    "    path = \"./3_Testing/\"+str(i)+\"/\"\n",
    "    files = os.listdir(path)\n",
    "    \n",
    "    for index, file in enumerate(files):\n",
    "        os.rename(os.path.join(path,file), os.path.join(path, ''.join([str(i)+' ('+str(j)+').jpg'])))\n",
    "        j=j+1"
   ]
  },
  {
   "cell_type": "code",
   "execution_count": 2,
   "id": "89a04ffa",
   "metadata": {},
   "outputs": [
    {
     "name": "stdout",
     "output_type": "stream",
     "text": [
      "1_Training/1\n",
      "1_Training/2\n",
      "1_Training/3\n",
      "1_Training/4\n",
      "1_Training/5\n",
      "1_Training/6\n",
      "1_Training/7\n",
      "1_Training/8\n",
      "1_Training/9\n",
      "1_Training/10\n",
      "1_Training/11\n",
      "1_Training/12\n",
      "1_Training/13\n",
      "1_Training/14\n",
      "1_Training/15\n",
      "1_Training/16\n",
      "1_Training/17\n",
      "1_Training/18\n",
      "1_Training/19\n",
      "1_Training/20\n",
      "1_Training/21\n",
      "1_Training/22\n",
      "1_Training/23\n",
      "1_Training/24\n",
      "1_Training/25\n",
      "1_Training/26\n",
      "1_Training/27\n",
      "1_Training/28\n",
      "1_Training/29\n",
      "1_Training/30\n",
      "1_Training/31\n",
      "1_Training/32\n",
      "1_Training/33\n",
      "1_Training/34\n",
      "1_Training/35\n",
      "1_Training/36\n",
      "1_Training/37\n",
      "1_Training/38\n",
      "1_Training/39\n",
      "1_Training/40\n",
      "1_Training/41\n",
      "1_Training/42\n",
      "1_Training/43\n",
      "1_Training/44\n",
      "1_Training/45\n",
      "1_Training/46\n"
     ]
    }
   ],
   "source": [
    "for j in range(1,47,1):\n",
    "    for i in range(1,1701,1):   \n",
    "        image = cv2.imread('./1_Training/'+str(j)+'/'+str(j)+' '+ '('+str(i) +')' +'.png')\n",
    "        resized = cv2.resize(image, (64,64), interpolation = cv2.INTER_LINEAR)\n",
    "        cv2.imwrite('./1_Training/'+str(j)+'/'+str(j)+' '+ '('+str(i) +')' +'.png',resized)\n",
    "    print('1_Training/'+str(j))"
   ]
  },
  {
   "cell_type": "code",
   "execution_count": 3,
   "id": "8780e098",
   "metadata": {},
   "outputs": [
    {
     "name": "stdout",
     "output_type": "stream",
     "text": [
      "2_Validation/1\n",
      "2_Validation/2\n",
      "2_Validation/3\n",
      "2_Validation/4\n",
      "2_Validation/5\n",
      "2_Validation/6\n",
      "2_Validation/7\n",
      "2_Validation/8\n",
      "2_Validation/9\n",
      "2_Validation/10\n",
      "2_Validation/11\n",
      "2_Validation/12\n",
      "2_Validation/13\n",
      "2_Validation/14\n",
      "2_Validation/15\n",
      "2_Validation/16\n",
      "2_Validation/17\n",
      "2_Validation/18\n",
      "2_Validation/19\n",
      "2_Validation/20\n",
      "2_Validation/21\n",
      "2_Validation/22\n",
      "2_Validation/23\n",
      "2_Validation/24\n",
      "2_Validation/25\n",
      "2_Validation/26\n",
      "2_Validation/27\n",
      "2_Validation/28\n",
      "2_Validation/29\n",
      "2_Validation/30\n",
      "2_Validation/31\n",
      "2_Validation/32\n",
      "2_Validation/33\n",
      "2_Validation/34\n",
      "2_Validation/35\n",
      "2_Validation/36\n",
      "2_Validation/37\n",
      "2_Validation/38\n",
      "2_Validation/39\n",
      "2_Validation/40\n",
      "2_Validation/41\n",
      "2_Validation/42\n",
      "2_Validation/43\n",
      "2_Validation/44\n",
      "2_Validation/45\n",
      "2_Validation/46\n"
     ]
    }
   ],
   "source": [
    "for j in range(1,47,1):\n",
    "    for i in range(1,301,1):   \n",
    "        image = cv2.imread('./2_Validation/'+str(j)+'/'+str(j)+' '+ '('+str(i) +')' +'.png')\n",
    "        resized = cv2.resize(image, (64,64), interpolation = cv2.INTER_LINEAR)\n",
    "        cv2.imwrite('./2_Validation/'+str(j)+'/'+str(j)+' '+ '('+str(i) +')' +'.png',resized)\n",
    "    print('2_Validation/'+str(j))"
   ]
  },
  {
   "cell_type": "code",
   "execution_count": null,
   "id": "9cd3f4a1",
   "metadata": {
    "scrolled": true
   },
   "outputs": [
    {
     "name": "stdout",
     "output_type": "stream",
     "text": [
      "3_Testing/1\n",
      "3_Testing/2\n",
      "3_Testing/3\n",
      "3_Testing/4\n",
      "3_Testing/5\n",
      "3_Testing/6\n",
      "3_Testing/7\n",
      "3_Testing/8\n",
      "3_Testing/9\n",
      "3_Testing/10\n",
      "3_Testing/11\n",
      "3_Testing/12\n",
      "3_Testing/13\n",
      "3_Testing/14\n"
     ]
    }
   ],
   "source": [
    "for j in range(1,47,1):\n",
    "    for i in range(1,201,1):   \n",
    "        image = cv2.imread('./3_Testing/'+str(j)+'/'+str(j)+' '+ '('+str(i) +')' +'.jpg')\n",
    "        resized = cv2.resize(image, (64,64), interpolation = cv2.INTER_LINEAR)\n",
    "        cv2.imwrite('./3_Testing/'+str(j)+'/'+str(j)+' '+ '('+str(i) +')' +'.jpg',resized)\n",
    "    print('3_Testing/'+str(j))"
   ]
  },
  {
   "cell_type": "code",
   "execution_count": null,
   "id": "cf7fb31b",
   "metadata": {},
   "outputs": [],
   "source": []
  },
  {
   "cell_type": "code",
   "execution_count": 26,
   "id": "efa63b33",
   "metadata": {
    "scrolled": true
   },
   "outputs": [
    {
     "name": "stdout",
     "output_type": "stream",
     "text": [
      "3_Testing/1\n",
      "3_Testing/2\n",
      "3_Testing/3\n",
      "3_Testing/4\n",
      "3_Testing/5\n",
      "3_Testing/6\n",
      "3_Testing/7\n",
      "3_Testing/8\n",
      "3_Testing/9\n",
      "3_Testing/10\n",
      "3_Testing/11\n",
      "3_Testing/12\n",
      "3_Testing/13\n",
      "3_Testing/14\n",
      "3_Testing/15\n",
      "3_Testing/16\n",
      "3_Testing/17\n",
      "3_Testing/18\n",
      "3_Testing/19\n",
      "3_Testing/20\n",
      "3_Testing/21\n",
      "3_Testing/22\n",
      "3_Testing/23\n",
      "3_Testing/24\n",
      "3_Testing/25\n",
      "3_Testing/26\n",
      "3_Testing/27\n",
      "3_Testing/28\n",
      "3_Testing/29\n",
      "3_Testing/30\n",
      "3_Testing/31\n",
      "3_Testing/32\n",
      "3_Testing/33\n",
      "3_Testing/34\n",
      "3_Testing/35\n",
      "3_Testing/36\n",
      "3_Testing/37\n",
      "3_Testing/38\n",
      "3_Testing/39\n",
      "3_Testing/40\n",
      "3_Testing/41\n",
      "3_Testing/42\n",
      "3_Testing/43\n",
      "3_Testing/44\n",
      "3_Testing/45\n",
      "3_Testing/46\n"
     ]
    }
   ],
   "source": [
    "import PIL.ImageOps \n",
    "\n",
    "for j in range(1,47,1):\n",
    "    for i in range(1,201,1):   \n",
    "        image = Image.open('./3_Testing/'+str(j)+'/'+str(j)+' '+ '('+str(i) +')' +'.jpg')\n",
    "        image = image.convert('L')\n",
    "        inverted_image = PIL.ImageOps.invert(image)\n",
    "        image = image.convert('1')\n",
    "        inverted_image.save('./3_Testing/'+str(j)+'/'+str(j)+' '+ '('+str(i) +')' +'.jpg')\n",
    "    print('3_Testing/'+str(j))"
   ]
  },
  {
   "cell_type": "code",
   "execution_count": null,
   "id": "c938880a",
   "metadata": {},
   "outputs": [],
   "source": []
  }
 ],
 "metadata": {
  "kernelspec": {
   "display_name": "Python 3 (ipykernel)",
   "language": "python",
   "name": "python3"
  },
  "language_info": {
   "codemirror_mode": {
    "name": "ipython",
    "version": 3
   },
   "file_extension": ".py",
   "mimetype": "text/x-python",
   "name": "python",
   "nbconvert_exporter": "python",
   "pygments_lexer": "ipython3",
   "version": "3.9.13"
  }
 },
 "nbformat": 4,
 "nbformat_minor": 5
}
